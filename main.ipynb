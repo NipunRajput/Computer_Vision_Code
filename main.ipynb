{
 "cells": [
  {
   "cell_type": "code",
   "execution_count": 1,
   "metadata": {},
   "outputs": [
    {
     "name": "stdout",
     "output_type": "stream",
     "text": [
      " * Serving Flask app '__main__' (lazy loading)\n",
      " * Environment: production\n",
      "\u001b[31m   WARNING: This is a development server. Do not use it in a production deployment.\u001b[0m\n",
      "\u001b[2m   Use a production WSGI server instead.\u001b[0m\n",
      " * Debug mode: on\n"
     ]
    },
    {
     "name": "stderr",
     "output_type": "stream",
     "text": [
      "WARNING: This is a development server. Do not use it in a production deployment. Use a production WSGI server instead.\n",
      " * Running on all addresses (0.0.0.0)\n",
      " * Running on http://127.0.0.1:5000\n",
      " * Running on http://10.7.20.154:5000\n",
      "Press CTRL+C to quit\n",
      "10.7.20.154 - - [21/Oct/2024 18:24:08] \"GET /get_distance HTTP/1.1\" 200 -\n",
      "10.7.20.154 - - [21/Oct/2024 18:39:55] \"GET /get_distance HTTP/1.1\" 200 -\n"
     ]
    }
   ],
   "source": [
    "from flask import Flask, jsonify\n",
    "from flask_cors import CORS\n",
    "import cv2\n",
    "import threading\n",
    "\n",
    "app = Flask(__name__)\n",
    "CORS(app)  # Enable CORS for all routes\n",
    "\n",
    "# Global variables to store the video capture object and frame\n",
    "cap = None\n",
    "frame = None\n",
    "lock = threading.Lock()  # Thread lock to protect access to frame\n",
    "\n",
    "\n",
    "def video_stream():\n",
    "    global cap, frame\n",
    "    cap = cv2.VideoCapture(0)\n",
    "\n",
    "    if not cap.isOpened():\n",
    "        print(\"Error: Unable to access the camera\")\n",
    "        return\n",
    "\n",
    "    while True:\n",
    "        ret, current_frame = cap.read()\n",
    "        if not ret:\n",
    "            print(\"Error: Failed to capture frame from camera\")\n",
    "            break\n",
    "\n",
    "        # Lock the access to frame before updating it\n",
    "        with lock:\n",
    "            frame = current_frame\n",
    "\n",
    "    cap.release()\n",
    "\n",
    "\n",
    "def calculate_face_distance():\n",
    "    global frame\n",
    "\n",
    "    with lock:\n",
    "        if frame is None:\n",
    "            return {'error': 'No frame captured'}\n",
    "\n",
    "        gray = cv2.cvtColor(frame, cv2.COLOR_BGR2GRAY)\n",
    "        face_cascade = cv2.CascadeClassifier(cv2.data.haarcascades + 'haarcascade_frontalface_default.xml')\n",
    "        faces = face_cascade.detectMultiScale(gray, 1.1, 4)\n",
    "\n",
    "        if len(faces) > 0:\n",
    "            (x, y, w, h) = faces[0]\n",
    "            distance = 100.0 / w  # Mock calculation of distance\n",
    "            return {'distance': distance}\n",
    "        else:\n",
    "            return {'error': 'No face detected'}\n",
    "\n",
    "\n",
    "@app.route('/get_distance', methods=['GET'])\n",
    "def get_distance():\n",
    "    result = calculate_face_distance()\n",
    "    return jsonify(result)\n",
    "\n",
    "\n",
    "if __name__ == \"__main__\":\n",
    "    # Start the webcam stream in a separate thread\n",
    "    t = threading.Thread(target=video_stream)\n",
    "    t.daemon = True\n",
    "    t.start()\n",
    "\n",
    "    # Run the Flask app\n",
    "    app.run(host='0.0.0.0', port=5000, debug=True, use_reloader=False)\n"
   ]
  }
 ],
 "metadata": {
  "kernelspec": {
   "display_name": "Python 3",
   "language": "python",
   "name": "python3"
  },
  "language_info": {
   "codemirror_mode": {
    "name": "ipython",
    "version": 3
   },
   "file_extension": ".py",
   "mimetype": "text/x-python",
   "name": "python",
   "nbconvert_exporter": "python",
   "pygments_lexer": "ipython3",
   "version": "3.10.7"
  }
 },
 "nbformat": 4,
 "nbformat_minor": 2
}
